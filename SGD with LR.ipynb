{
 "cells": [
  {
   "cell_type": "code",
   "execution_count": 1,
   "metadata": {},
   "outputs": [],
   "source": [
    "import warnings\n",
    "warnings.filterwarnings(\"ignore\")\n",
    "from sklearn.datasets import load_breast_cancer\n",
    "from random import seed\n",
    "from random import randrange\n",
    "from csv import reader\n",
    "from math import sqrt\n",
    "from sklearn import preprocessing\n",
    "import pandas as pd\n",
    "import numpy as np\n",
    "import matplotlib.pyplot as plt\n",
    "from prettytable import PrettyTable\n",
    "from sklearn.linear_model import SGDClassifier\n",
    "from sklearn import preprocessing\n",
    "from sklearn.metrics import log_loss\n",
    "import math"
   ]
  },
  {
   "cell_type": "code",
   "execution_count": 2,
   "metadata": {},
   "outputs": [],
   "source": [
    "X = load_breast_cancer().data\n",
    "Y = load_breast_cancer().target"
   ]
  },
  {
   "cell_type": "code",
   "execution_count": 3,
   "metadata": {},
   "outputs": [],
   "source": [
    "X_df = pd.DataFrame(X)\n",
    "Y_df = pd.DataFrame(Y)"
   ]
  },
  {
   "cell_type": "code",
   "execution_count": 4,
   "metadata": {},
   "outputs": [
    {
     "data": {
      "text/html": [
       "<div>\n",
       "<style scoped>\n",
       "    .dataframe tbody tr th:only-of-type {\n",
       "        vertical-align: middle;\n",
       "    }\n",
       "\n",
       "    .dataframe tbody tr th {\n",
       "        vertical-align: top;\n",
       "    }\n",
       "\n",
       "    .dataframe thead th {\n",
       "        text-align: right;\n",
       "    }\n",
       "</style>\n",
       "<table border=\"1\" class=\"dataframe\">\n",
       "  <thead>\n",
       "    <tr style=\"text-align: right;\">\n",
       "      <th></th>\n",
       "      <th>0</th>\n",
       "      <th>1</th>\n",
       "      <th>2</th>\n",
       "      <th>3</th>\n",
       "      <th>4</th>\n",
       "      <th>5</th>\n",
       "      <th>6</th>\n",
       "      <th>7</th>\n",
       "      <th>8</th>\n",
       "      <th>9</th>\n",
       "      <th>...</th>\n",
       "      <th>20</th>\n",
       "      <th>21</th>\n",
       "      <th>22</th>\n",
       "      <th>23</th>\n",
       "      <th>24</th>\n",
       "      <th>25</th>\n",
       "      <th>26</th>\n",
       "      <th>27</th>\n",
       "      <th>28</th>\n",
       "      <th>29</th>\n",
       "    </tr>\n",
       "  </thead>\n",
       "  <tbody>\n",
       "    <tr>\n",
       "      <th>0</th>\n",
       "      <td>17.99</td>\n",
       "      <td>10.38</td>\n",
       "      <td>122.80</td>\n",
       "      <td>1001.0</td>\n",
       "      <td>0.11840</td>\n",
       "      <td>0.27760</td>\n",
       "      <td>0.3001</td>\n",
       "      <td>0.14710</td>\n",
       "      <td>0.2419</td>\n",
       "      <td>0.07871</td>\n",
       "      <td>...</td>\n",
       "      <td>25.38</td>\n",
       "      <td>17.33</td>\n",
       "      <td>184.60</td>\n",
       "      <td>2019.0</td>\n",
       "      <td>0.1622</td>\n",
       "      <td>0.6656</td>\n",
       "      <td>0.7119</td>\n",
       "      <td>0.2654</td>\n",
       "      <td>0.4601</td>\n",
       "      <td>0.11890</td>\n",
       "    </tr>\n",
       "    <tr>\n",
       "      <th>1</th>\n",
       "      <td>20.57</td>\n",
       "      <td>17.77</td>\n",
       "      <td>132.90</td>\n",
       "      <td>1326.0</td>\n",
       "      <td>0.08474</td>\n",
       "      <td>0.07864</td>\n",
       "      <td>0.0869</td>\n",
       "      <td>0.07017</td>\n",
       "      <td>0.1812</td>\n",
       "      <td>0.05667</td>\n",
       "      <td>...</td>\n",
       "      <td>24.99</td>\n",
       "      <td>23.41</td>\n",
       "      <td>158.80</td>\n",
       "      <td>1956.0</td>\n",
       "      <td>0.1238</td>\n",
       "      <td>0.1866</td>\n",
       "      <td>0.2416</td>\n",
       "      <td>0.1860</td>\n",
       "      <td>0.2750</td>\n",
       "      <td>0.08902</td>\n",
       "    </tr>\n",
       "    <tr>\n",
       "      <th>2</th>\n",
       "      <td>19.69</td>\n",
       "      <td>21.25</td>\n",
       "      <td>130.00</td>\n",
       "      <td>1203.0</td>\n",
       "      <td>0.10960</td>\n",
       "      <td>0.15990</td>\n",
       "      <td>0.1974</td>\n",
       "      <td>0.12790</td>\n",
       "      <td>0.2069</td>\n",
       "      <td>0.05999</td>\n",
       "      <td>...</td>\n",
       "      <td>23.57</td>\n",
       "      <td>25.53</td>\n",
       "      <td>152.50</td>\n",
       "      <td>1709.0</td>\n",
       "      <td>0.1444</td>\n",
       "      <td>0.4245</td>\n",
       "      <td>0.4504</td>\n",
       "      <td>0.2430</td>\n",
       "      <td>0.3613</td>\n",
       "      <td>0.08758</td>\n",
       "    </tr>\n",
       "    <tr>\n",
       "      <th>3</th>\n",
       "      <td>11.42</td>\n",
       "      <td>20.38</td>\n",
       "      <td>77.58</td>\n",
       "      <td>386.1</td>\n",
       "      <td>0.14250</td>\n",
       "      <td>0.28390</td>\n",
       "      <td>0.2414</td>\n",
       "      <td>0.10520</td>\n",
       "      <td>0.2597</td>\n",
       "      <td>0.09744</td>\n",
       "      <td>...</td>\n",
       "      <td>14.91</td>\n",
       "      <td>26.50</td>\n",
       "      <td>98.87</td>\n",
       "      <td>567.7</td>\n",
       "      <td>0.2098</td>\n",
       "      <td>0.8663</td>\n",
       "      <td>0.6869</td>\n",
       "      <td>0.2575</td>\n",
       "      <td>0.6638</td>\n",
       "      <td>0.17300</td>\n",
       "    </tr>\n",
       "    <tr>\n",
       "      <th>4</th>\n",
       "      <td>20.29</td>\n",
       "      <td>14.34</td>\n",
       "      <td>135.10</td>\n",
       "      <td>1297.0</td>\n",
       "      <td>0.10030</td>\n",
       "      <td>0.13280</td>\n",
       "      <td>0.1980</td>\n",
       "      <td>0.10430</td>\n",
       "      <td>0.1809</td>\n",
       "      <td>0.05883</td>\n",
       "      <td>...</td>\n",
       "      <td>22.54</td>\n",
       "      <td>16.67</td>\n",
       "      <td>152.20</td>\n",
       "      <td>1575.0</td>\n",
       "      <td>0.1374</td>\n",
       "      <td>0.2050</td>\n",
       "      <td>0.4000</td>\n",
       "      <td>0.1625</td>\n",
       "      <td>0.2364</td>\n",
       "      <td>0.07678</td>\n",
       "    </tr>\n",
       "  </tbody>\n",
       "</table>\n",
       "<p>5 rows × 30 columns</p>\n",
       "</div>"
      ],
      "text/plain": [
       "      0      1       2       3        4        5       6        7       8   \\\n",
       "0  17.99  10.38  122.80  1001.0  0.11840  0.27760  0.3001  0.14710  0.2419   \n",
       "1  20.57  17.77  132.90  1326.0  0.08474  0.07864  0.0869  0.07017  0.1812   \n",
       "2  19.69  21.25  130.00  1203.0  0.10960  0.15990  0.1974  0.12790  0.2069   \n",
       "3  11.42  20.38   77.58   386.1  0.14250  0.28390  0.2414  0.10520  0.2597   \n",
       "4  20.29  14.34  135.10  1297.0  0.10030  0.13280  0.1980  0.10430  0.1809   \n",
       "\n",
       "        9    ...        20     21      22      23      24      25      26  \\\n",
       "0  0.07871   ...     25.38  17.33  184.60  2019.0  0.1622  0.6656  0.7119   \n",
       "1  0.05667   ...     24.99  23.41  158.80  1956.0  0.1238  0.1866  0.2416   \n",
       "2  0.05999   ...     23.57  25.53  152.50  1709.0  0.1444  0.4245  0.4504   \n",
       "3  0.09744   ...     14.91  26.50   98.87   567.7  0.2098  0.8663  0.6869   \n",
       "4  0.05883   ...     22.54  16.67  152.20  1575.0  0.1374  0.2050  0.4000   \n",
       "\n",
       "       27      28       29  \n",
       "0  0.2654  0.4601  0.11890  \n",
       "1  0.1860  0.2750  0.08902  \n",
       "2  0.2430  0.3613  0.08758  \n",
       "3  0.2575  0.6638  0.17300  \n",
       "4  0.1625  0.2364  0.07678  \n",
       "\n",
       "[5 rows x 30 columns]"
      ]
     },
     "execution_count": 4,
     "metadata": {},
     "output_type": "execute_result"
    }
   ],
   "source": [
    "X_df.head()"
   ]
  },
  {
   "cell_type": "code",
   "execution_count": 5,
   "metadata": {},
   "outputs": [
    {
     "data": {
      "text/html": [
       "<div>\n",
       "<style scoped>\n",
       "    .dataframe tbody tr th:only-of-type {\n",
       "        vertical-align: middle;\n",
       "    }\n",
       "\n",
       "    .dataframe tbody tr th {\n",
       "        vertical-align: top;\n",
       "    }\n",
       "\n",
       "    .dataframe thead th {\n",
       "        text-align: right;\n",
       "    }\n",
       "</style>\n",
       "<table border=\"1\" class=\"dataframe\">\n",
       "  <thead>\n",
       "    <tr style=\"text-align: right;\">\n",
       "      <th></th>\n",
       "      <th>0</th>\n",
       "    </tr>\n",
       "  </thead>\n",
       "  <tbody>\n",
       "    <tr>\n",
       "      <th>0</th>\n",
       "      <td>0</td>\n",
       "    </tr>\n",
       "    <tr>\n",
       "      <th>1</th>\n",
       "      <td>0</td>\n",
       "    </tr>\n",
       "    <tr>\n",
       "      <th>2</th>\n",
       "      <td>0</td>\n",
       "    </tr>\n",
       "    <tr>\n",
       "      <th>3</th>\n",
       "      <td>0</td>\n",
       "    </tr>\n",
       "    <tr>\n",
       "      <th>4</th>\n",
       "      <td>0</td>\n",
       "    </tr>\n",
       "  </tbody>\n",
       "</table>\n",
       "</div>"
      ],
      "text/plain": [
       "   0\n",
       "0  0\n",
       "1  0\n",
       "2  0\n",
       "3  0\n",
       "4  0"
      ]
     },
     "execution_count": 5,
     "metadata": {},
     "output_type": "execute_result"
    }
   ],
   "source": [
    "Y_df.head()"
   ]
  },
  {
   "cell_type": "code",
   "execution_count": 6,
   "metadata": {},
   "outputs": [
    {
     "name": "stdout",
     "output_type": "stream",
     "text": [
      "(569, 30)\n",
      "(569, 1)\n"
     ]
    }
   ],
   "source": [
    "print(X_df.shape)\n",
    "print(Y_df.shape)"
   ]
  },
  {
   "cell_type": "code",
   "execution_count": 7,
   "metadata": {},
   "outputs": [
    {
     "name": "stdout",
     "output_type": "stream",
     "text": [
      "(398, 30)\n",
      "(171, 30)\n",
      "(398, 1)\n",
      "(171, 1)\n"
     ]
    }
   ],
   "source": [
    "#splitting the data into train set and test set\n",
    "\n",
    "from sklearn.model_selection import train_test_split\n",
    "X_train, X_test, Y_train, Y_test = train_test_split(X_df, Y_df, test_size = 0.3, random_state = 5)\n",
    "print(X_train.shape)\n",
    "print(X_test.shape)\n",
    "print(Y_train.shape)\n",
    "print(Y_test.shape)"
   ]
  },
  {
   "cell_type": "code",
   "execution_count": 8,
   "metadata": {},
   "outputs": [],
   "source": [
    "scalar = preprocessing.StandardScaler()\n",
    "X_train = scalar.fit_transform(X_train)\n",
    "X_test=scalar.transform(X_test)\n",
    "\n",
    "X_train_df = pd.DataFrame(X_train)\n",
    "Y_train_df = pd.DataFrame(Y_train) "
   ]
  },
  {
   "cell_type": "code",
   "execution_count": 9,
   "metadata": {},
   "outputs": [
    {
     "data": {
      "text/html": [
       "<div>\n",
       "<style scoped>\n",
       "    .dataframe tbody tr th:only-of-type {\n",
       "        vertical-align: middle;\n",
       "    }\n",
       "\n",
       "    .dataframe tbody tr th {\n",
       "        vertical-align: top;\n",
       "    }\n",
       "\n",
       "    .dataframe thead th {\n",
       "        text-align: right;\n",
       "    }\n",
       "</style>\n",
       "<table border=\"1\" class=\"dataframe\">\n",
       "  <thead>\n",
       "    <tr style=\"text-align: right;\">\n",
       "      <th></th>\n",
       "      <th>0</th>\n",
       "    </tr>\n",
       "  </thead>\n",
       "  <tbody>\n",
       "    <tr>\n",
       "      <th>0</th>\n",
       "      <td>0</td>\n",
       "    </tr>\n",
       "    <tr>\n",
       "      <th>1</th>\n",
       "      <td>1</td>\n",
       "    </tr>\n",
       "    <tr>\n",
       "      <th>2</th>\n",
       "      <td>0</td>\n",
       "    </tr>\n",
       "    <tr>\n",
       "      <th>3</th>\n",
       "      <td>1</td>\n",
       "    </tr>\n",
       "    <tr>\n",
       "      <th>4</th>\n",
       "      <td>1</td>\n",
       "    </tr>\n",
       "  </tbody>\n",
       "</table>\n",
       "</div>"
      ],
      "text/plain": [
       "   0\n",
       "0  0\n",
       "1  1\n",
       "2  0\n",
       "3  1\n",
       "4  1"
      ]
     },
     "execution_count": 9,
     "metadata": {},
     "output_type": "execute_result"
    }
   ],
   "source": [
    "Y_train_df.reset_index(drop=True,inplace=True)\n",
    "Y_train_df.head()"
   ]
  },
  {
   "cell_type": "code",
   "execution_count": 10,
   "metadata": {},
   "outputs": [
    {
     "data": {
      "text/html": [
       "<div>\n",
       "<style scoped>\n",
       "    .dataframe tbody tr th:only-of-type {\n",
       "        vertical-align: middle;\n",
       "    }\n",
       "\n",
       "    .dataframe tbody tr th {\n",
       "        vertical-align: top;\n",
       "    }\n",
       "\n",
       "    .dataframe thead th {\n",
       "        text-align: right;\n",
       "    }\n",
       "</style>\n",
       "<table border=\"1\" class=\"dataframe\">\n",
       "  <thead>\n",
       "    <tr style=\"text-align: right;\">\n",
       "      <th></th>\n",
       "      <th>0</th>\n",
       "      <th>1</th>\n",
       "      <th>2</th>\n",
       "      <th>3</th>\n",
       "      <th>4</th>\n",
       "      <th>5</th>\n",
       "      <th>6</th>\n",
       "      <th>7</th>\n",
       "      <th>8</th>\n",
       "      <th>9</th>\n",
       "      <th>...</th>\n",
       "      <th>21</th>\n",
       "      <th>22</th>\n",
       "      <th>23</th>\n",
       "      <th>24</th>\n",
       "      <th>25</th>\n",
       "      <th>26</th>\n",
       "      <th>27</th>\n",
       "      <th>28</th>\n",
       "      <th>29</th>\n",
       "      <th>class</th>\n",
       "    </tr>\n",
       "  </thead>\n",
       "  <tbody>\n",
       "    <tr>\n",
       "      <th>0</th>\n",
       "      <td>-0.280700</td>\n",
       "      <td>-0.107141</td>\n",
       "      <td>-0.251667</td>\n",
       "      <td>-0.353201</td>\n",
       "      <td>1.376494</td>\n",
       "      <td>0.402148</td>\n",
       "      <td>0.469188</td>\n",
       "      <td>0.655619</td>\n",
       "      <td>1.173114</td>\n",
       "      <td>0.818014</td>\n",
       "      <td>...</td>\n",
       "      <td>0.414375</td>\n",
       "      <td>-0.129156</td>\n",
       "      <td>-0.211767</td>\n",
       "      <td>2.034236</td>\n",
       "      <td>1.093524</td>\n",
       "      <td>1.155073</td>\n",
       "      <td>1.454746</td>\n",
       "      <td>1.673402</td>\n",
       "      <td>1.927756</td>\n",
       "      <td>0</td>\n",
       "    </tr>\n",
       "    <tr>\n",
       "      <th>1</th>\n",
       "      <td>-0.524643</td>\n",
       "      <td>-1.625403</td>\n",
       "      <td>-0.551996</td>\n",
       "      <td>-0.552417</td>\n",
       "      <td>-0.464193</td>\n",
       "      <td>-0.758859</td>\n",
       "      <td>-0.726158</td>\n",
       "      <td>-0.573343</td>\n",
       "      <td>-0.418000</td>\n",
       "      <td>-0.657791</td>\n",
       "      <td>...</td>\n",
       "      <td>-1.033312</td>\n",
       "      <td>-0.613384</td>\n",
       "      <td>-0.578254</td>\n",
       "      <td>-0.143060</td>\n",
       "      <td>-0.267148</td>\n",
       "      <td>-0.430995</td>\n",
       "      <td>-0.103326</td>\n",
       "      <td>0.363454</td>\n",
       "      <td>-0.418850</td>\n",
       "      <td>1</td>\n",
       "    </tr>\n",
       "    <tr>\n",
       "      <th>2</th>\n",
       "      <td>-0.042636</td>\n",
       "      <td>0.120955</td>\n",
       "      <td>-0.032393</td>\n",
       "      <td>-0.157602</td>\n",
       "      <td>0.676504</td>\n",
       "      <td>0.212612</td>\n",
       "      <td>0.340684</td>\n",
       "      <td>0.425958</td>\n",
       "      <td>-0.490488</td>\n",
       "      <td>0.463150</td>\n",
       "      <td>...</td>\n",
       "      <td>0.889710</td>\n",
       "      <td>0.215834</td>\n",
       "      <td>-0.004688</td>\n",
       "      <td>1.271742</td>\n",
       "      <td>0.704575</td>\n",
       "      <td>0.692819</td>\n",
       "      <td>1.055279</td>\n",
       "      <td>0.477867</td>\n",
       "      <td>1.234618</td>\n",
       "      <td>0</td>\n",
       "    </tr>\n",
       "    <tr>\n",
       "      <th>3</th>\n",
       "      <td>-1.358163</td>\n",
       "      <td>-1.585012</td>\n",
       "      <td>-1.345477</td>\n",
       "      <td>-1.138915</td>\n",
       "      <td>0.419365</td>\n",
       "      <td>-0.723080</td>\n",
       "      <td>-0.726415</td>\n",
       "      <td>-0.722872</td>\n",
       "      <td>0.038676</td>\n",
       "      <td>1.012960</td>\n",
       "      <td>...</td>\n",
       "      <td>-1.635403</td>\n",
       "      <td>-1.299944</td>\n",
       "      <td>-1.049317</td>\n",
       "      <td>-0.002021</td>\n",
       "      <td>-0.869434</td>\n",
       "      <td>-0.877117</td>\n",
       "      <td>-0.787928</td>\n",
       "      <td>-0.730933</td>\n",
       "      <td>-0.317674</td>\n",
       "      <td>1</td>\n",
       "    </tr>\n",
       "    <tr>\n",
       "      <th>4</th>\n",
       "      <td>-0.365933</td>\n",
       "      <td>2.330633</td>\n",
       "      <td>-0.400125</td>\n",
       "      <td>-0.414383</td>\n",
       "      <td>-1.092754</td>\n",
       "      <td>-0.852274</td>\n",
       "      <td>-0.310190</td>\n",
       "      <td>-0.652952</td>\n",
       "      <td>-0.863801</td>\n",
       "      <td>-0.810092</td>\n",
       "      <td>...</td>\n",
       "      <td>1.713624</td>\n",
       "      <td>-0.563034</td>\n",
       "      <td>-0.520219</td>\n",
       "      <td>-0.429547</td>\n",
       "      <td>-0.562437</td>\n",
       "      <td>-0.111315</td>\n",
       "      <td>-0.747216</td>\n",
       "      <td>-0.860269</td>\n",
       "      <td>-0.614494</td>\n",
       "      <td>1</td>\n",
       "    </tr>\n",
       "  </tbody>\n",
       "</table>\n",
       "<p>5 rows × 31 columns</p>\n",
       "</div>"
      ],
      "text/plain": [
       "          0         1         2         3         4         5         6  \\\n",
       "0 -0.280700 -0.107141 -0.251667 -0.353201  1.376494  0.402148  0.469188   \n",
       "1 -0.524643 -1.625403 -0.551996 -0.552417 -0.464193 -0.758859 -0.726158   \n",
       "2 -0.042636  0.120955 -0.032393 -0.157602  0.676504  0.212612  0.340684   \n",
       "3 -1.358163 -1.585012 -1.345477 -1.138915  0.419365 -0.723080 -0.726415   \n",
       "4 -0.365933  2.330633 -0.400125 -0.414383 -1.092754 -0.852274 -0.310190   \n",
       "\n",
       "          7         8         9  ...          21        22        23  \\\n",
       "0  0.655619  1.173114  0.818014  ...    0.414375 -0.129156 -0.211767   \n",
       "1 -0.573343 -0.418000 -0.657791  ...   -1.033312 -0.613384 -0.578254   \n",
       "2  0.425958 -0.490488  0.463150  ...    0.889710  0.215834 -0.004688   \n",
       "3 -0.722872  0.038676  1.012960  ...   -1.635403 -1.299944 -1.049317   \n",
       "4 -0.652952 -0.863801 -0.810092  ...    1.713624 -0.563034 -0.520219   \n",
       "\n",
       "         24        25        26        27        28        29  class  \n",
       "0  2.034236  1.093524  1.155073  1.454746  1.673402  1.927756      0  \n",
       "1 -0.143060 -0.267148 -0.430995 -0.103326  0.363454 -0.418850      1  \n",
       "2  1.271742  0.704575  0.692819  1.055279  0.477867  1.234618      0  \n",
       "3 -0.002021 -0.869434 -0.877117 -0.787928 -0.730933 -0.317674      1  \n",
       "4 -0.429547 -0.562437 -0.111315 -0.747216 -0.860269 -0.614494      1  \n",
       "\n",
       "[5 rows x 31 columns]"
      ]
     },
     "execution_count": 10,
     "metadata": {},
     "output_type": "execute_result"
    }
   ],
   "source": [
    "X_train_df['class'] = Y_train_df\n",
    "X_train_df.head()"
   ]
  },
  {
   "cell_type": "code",
   "execution_count": 11,
   "metadata": {},
   "outputs": [
    {
     "name": "stdout",
     "output_type": "stream",
     "text": [
      "[[-0.05577926 -0.03795673 -0.05693249 -0.05716765 -0.03619538 -0.04566405\n",
      "  -0.05137774 -0.05900076 -0.03396192  0.00039323 -0.05725254 -0.01527104\n",
      "  -0.05968474 -0.05878624 -0.01307262 -0.02775585 -0.01002757 -0.030606\n",
      "  -0.01958256 -0.00227324 -0.05977959 -0.03931996 -0.06043787 -0.06005506\n",
      "  -0.03077441 -0.04121526 -0.04537893 -0.05073427 -0.0330751  -0.02216779]]\n"
     ]
    }
   ],
   "source": [
    "W = np.random.rand(1,30) #choosing a random value of W\n",
    "iteration = 800   #setting the iteration count to 800 for SGD\n",
    "learn_rate = 1 #initializing learning rate to 1\n",
    "lamda = 1    #picking lamda value of 1 in L2 regularization\n",
    "k = 30      #picking batchsize of 30  \n",
    "\n",
    "for p in range(iteration):\n",
    "    w,temp_vector=W,0\n",
    "    data=X_train_df.sample(30) #sampling random k=batch size=25 data ; https://www.geeksforgeeks.org/python-random-sample-function/\n",
    "    x=np.array(data.drop('class',axis=1))\n",
    "    y=np.array(data['class'])\n",
    "    \n",
    "    for i in range(k):\n",
    "        temp_vector += (-y[i] * x[i] * math.exp(-np.dot(y[i],np.dot(w,x[i]))))/(1+math.exp(-np.dot(y[i],np.dot(w,x[i])))) + 2 * lamda * W\n",
    "        W=(w-learn_rate*(temp_vector))\n",
    "        \n",
    "    learn_rate = learn_rate/2 \n",
    "    iteration -= 1    \n",
    "    \n",
    "    \n",
    "print(W)  "
   ]
  },
  {
   "cell_type": "code",
   "execution_count": 12,
   "metadata": {},
   "outputs": [],
   "source": [
    "y_predictions = []\n",
    "for i in range(len(X_test)):\n",
    "    try:\n",
    "        prediction = 1/(1+math.exp(-np.dot(W,X_test[i])))\n",
    "    except OverflowError:\n",
    "        prediction = float('inf')\n",
    "        \n",
    "    y_predictions.append(prediction)    "
   ]
  },
  {
   "cell_type": "code",
   "execution_count": 13,
   "metadata": {},
   "outputs": [
    {
     "data": {
      "text/plain": [
       "0.43444028437283283"
      ]
     },
     "execution_count": 13,
     "metadata": {},
     "output_type": "execute_result"
    }
   ],
   "source": [
    "from sklearn.metrics import log_loss\n",
    "log_loss(Y_test, y_predictions)"
   ]
  },
  {
   "cell_type": "code",
   "execution_count": 14,
   "metadata": {},
   "outputs": [],
   "source": [
    "from sklearn.linear_model import SGDClassifier\n",
    "model = SGDClassifier(loss = 'log',penalty ='l2')\n",
    "model.fit(X_train,Y_train)\n",
    "y_sgd_predictions = model.predict(X_test)"
   ]
  },
  {
   "cell_type": "code",
   "execution_count": 15,
   "metadata": {},
   "outputs": [
    {
     "data": {
      "text/plain": [
       "0.4039716490332276"
      ]
     },
     "execution_count": 15,
     "metadata": {},
     "output_type": "execute_result"
    }
   ],
   "source": [
    "log_loss(Y_test, y_sgd_predictions)"
   ]
  },
  {
   "cell_type": "code",
   "execution_count": 16,
   "metadata": {},
   "outputs": [
    {
     "name": "stdout",
     "output_type": "stream",
     "text": [
      "+----------------------------------------------------+-----------------------------------------+\n",
      "| Weight Vectors obtained from Manual Implementation | Weight vector obtained from SGD sklearn |\n",
      "+----------------------------------------------------+-----------------------------------------+\n",
      "|               -0.055779255088234274                |           -14.766490045582394           |\n",
      "|                -0.03795673117202592                |           -11.182810974668651           |\n",
      "|               -0.056932489637636294                |           -14.264631476896083           |\n",
      "|               -0.057167649308175084                |           -15.209228377345203           |\n",
      "|                -0.03619538453316427                |            -3.91733555382231            |\n",
      "|               -0.045664052669209663                |            10.124250658244422           |\n",
      "|                -0.05137774192889916                |           -16.321005960893544           |\n",
      "|               -0.059000757685989974                |           -18.102036171826708           |\n",
      "|               -0.033961915120249465                |            10.178899247784985           |\n",
      "|               0.0003932313294144599                |            10.968590843059214           |\n",
      "|                -0.05725254319622938                |            -25.89942104172041           |\n",
      "|               -0.015271035737603507                |            20.430636110663112           |\n",
      "|                -0.05968473681852309                |            -15.83400073444899           |\n",
      "|               -0.058786240705030184                |           -28.939782938687017           |\n",
      "|               -0.013072619433759383                |            -20.68084132673781           |\n",
      "|               -0.027755854706058142                |            17.081995651475648           |\n",
      "|               -0.010027567953470021                |            4.240395055391828            |\n",
      "|               -0.030606003703325037                |            -9.680095099760504           |\n",
      "|                -0.01958255709135871                |            4.032187178837942            |\n",
      "|               -0.002273240845566247                |            33.521414089292456           |\n",
      "|                -0.05977958992901493                |           -24.637050699208903           |\n",
      "|               -0.039319961773901735                |            -44.4897477477926            |\n",
      "|               -0.060437873109124025                |            -18.04639469255421           |\n",
      "|                 -0.060055058529321                 |           -23.598197317614634           |\n",
      "|               -0.030774405893850512                |            -6.205859063248076           |\n",
      "|                -0.04121525929458586                |           -2.3288813112275455           |\n",
      "|                -0.04537892870897088                |           -24.507023447194136           |\n",
      "|                -0.05073427253379926                |           -23.653425007354805           |\n",
      "|                -0.03307509971303856                |            -35.37436996751857           |\n",
      "+----------------------------------------------------+-----------------------------------------+\n"
     ]
    }
   ],
   "source": [
    "from prettytable import PrettyTable    \n",
    "x = PrettyTable()\n",
    "x.field_names=['Weight Vectors obtained from Manual Implementation','Weight vector obtained from SGD sklearn']\n",
    "weight_sgd=model.coef_ #https://datascience.stackexchange.com/questions/17970/how-can-i-know-how-to-interpret-the-output-coefficients-coefs-from-the-mode\n",
    "for i in range(29):\n",
    "    x.add_row([W[0][i],weight_sgd[0][i]])\n",
    "print(x)"
   ]
  },
  {
   "cell_type": "code",
   "execution_count": 17,
   "metadata": {},
   "outputs": [
    {
     "name": "stdout",
     "output_type": "stream",
     "text": [
      "<class 'numpy.ndarray'>\n"
     ]
    }
   ],
   "source": [
    "print(type(y_sgd_predictions))"
   ]
  },
  {
   "cell_type": "code",
   "execution_count": 18,
   "metadata": {},
   "outputs": [
    {
     "name": "stdout",
     "output_type": "stream",
     "text": [
      "<class 'list'>\n"
     ]
    }
   ],
   "source": [
    "print(type(y_predictions))"
   ]
  },
  {
   "cell_type": "code",
   "execution_count": 19,
   "metadata": {},
   "outputs": [],
   "source": [
    "y_predictions = [ 1 if x > 0.5 else 0 for x in y_predictions]    "
   ]
  },
  {
   "cell_type": "code",
   "execution_count": 20,
   "metadata": {},
   "outputs": [
    {
     "name": "stdout",
     "output_type": "stream",
     "text": [
      "0.9239766081871345\n"
     ]
    }
   ],
   "source": [
    "from sklearn.metrics import accuracy_score\n",
    "print(accuracy_score(Y_test,y_predictions))"
   ]
  },
  {
   "cell_type": "code",
   "execution_count": 21,
   "metadata": {},
   "outputs": [
    {
     "name": "stdout",
     "output_type": "stream",
     "text": [
      "0.9883040935672515\n"
     ]
    }
   ],
   "source": [
    "print(accuracy_score(Y_test,y_sgd_predictions))"
   ]
  },
  {
   "cell_type": "markdown",
   "metadata": {},
   "source": [
    "Observation: So the manually implemented SGD and scikit learn SGD classifier produced similar accuracy score results of around 92 and 98 percent respectively."
   ]
  },
  {
   "cell_type": "code",
   "execution_count": null,
   "metadata": {},
   "outputs": [],
   "source": []
  }
 ],
 "metadata": {
  "kernelspec": {
   "display_name": "Python 3",
   "language": "python",
   "name": "python3"
  },
  "language_info": {
   "codemirror_mode": {
    "name": "ipython",
    "version": 3
   },
   "file_extension": ".py",
   "mimetype": "text/x-python",
   "name": "python",
   "nbconvert_exporter": "python",
   "pygments_lexer": "ipython3",
   "version": "3.6.5"
  }
 },
 "nbformat": 4,
 "nbformat_minor": 2
}
